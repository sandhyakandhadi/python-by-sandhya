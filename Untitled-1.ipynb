{
 "cells": [
  {
   "cell_type": "code",
   "execution_count": 3,
   "metadata": {},
   "outputs": [
    {
     "name": "stdout",
     "output_type": "stream",
     "text": [
      "3\n"
     ]
    }
   ],
   "source": [
    "#Count the nucleotides\n",
    "dna=(\"ATGCCCCAAATTGG\")\n",
    "print(dna.count('G'))"
   ]
  },
  {
   "cell_type": "code",
   "execution_count": 1,
   "metadata": {},
   "outputs": [
    {
     "name": "stdout",
     "output_type": "stream",
     "text": [
      "Total no.of DSDNA molecules: 12\n"
     ]
    }
   ],
   "source": [
    "#Calculate total no.of DSDNA molecules when you run a PCR starting with x molecules of DNA and run for n cycles.\n",
    "x= int(input(\"enter  Initial no.of DNA molecules  \"))\n",
    "n=int(input (\"enter no .of PCR cycles  \"))\n",
    "totaldsdna=x*(2**n)\n",
    "print(\"Total no.of DSDNA molecules:\",totaldsdna)"
   ]
  },
  {
   "cell_type": "code",
   "execution_count": 2,
   "metadata": {},
   "outputs": [
    {
     "name": "stdout",
     "output_type": "stream",
     "text": [
      "Bob\n",
      "ST1001\n",
      "bob@gmail.com\n",
      "\"Bob\"\n",
      "\"ST1001\"\n",
      "\"bob@gmail.com\"\n"
     ]
    }
   ],
   "source": [
    "# using escape sequences print given statements\n",
    "print(\"Bob\")\n",
    "print (\"ST1001\")\n",
    "print (\"bob@gmail.com\")\n",
    "\n",
    "print('\"Bob\"\\n\"ST1001\"\\n\"bob@gmail.com\"')"
   ]
  },
  {
   "cell_type": "code",
   "execution_count": 3,
   "metadata": {},
   "outputs": [
    {
     "name": "stdout",
     "output_type": "stream",
     "text": [
      "32\n"
     ]
    }
   ],
   "source": [
    "a=pow(2,5)\n",
    "print(a)"
   ]
  },
  {
   "cell_type": "code",
   "execution_count": 4,
   "metadata": {},
   "outputs": [
    {
     "name": "stdout",
     "output_type": "stream",
     "text": [
      "1\n"
     ]
    }
   ],
   "source": [
    "#print remainder of divison\n",
    "a=10%3\n",
    "print(a)"
   ]
  },
  {
   "cell_type": "code",
   "execution_count": 5,
   "metadata": {},
   "outputs": [
    {
     "name": "stdout",
     "output_type": "stream",
     "text": [
      "3\n"
     ]
    }
   ],
   "source": [
    "#print divisor of divison\n",
    "a=10//3\n",
    "print(a)"
   ]
  },
  {
   "cell_type": "code",
   "execution_count": 13,
   "metadata": {},
   "outputs": [
    {
     "name": "stdout",
     "output_type": "stream",
     "text": [
      "10\n"
     ]
    },
    {
     "data": {
      "text/plain": [
       "True"
      ]
     },
     "execution_count": 13,
     "metadata": {},
     "output_type": "execute_result"
    }
   ],
   "source": [
    "#checking type isinstance\n",
    "num=10\n",
    "print(num)\n",
    "isinstance(num,int)\n"
   ]
  },
  {
   "cell_type": "code",
   "execution_count": 14,
   "metadata": {},
   "outputs": [
    {
     "name": "stdout",
     "output_type": "stream",
     "text": [
      "ATTGGCCAAATTGGGCCC\n"
     ]
    }
   ],
   "source": [
    "#DNA concatenation\n",
    "dna1=\"ATTGGCCA\"\n",
    "dna2=\"AATTGGGCCC\"\n",
    "dna3=dna1+dna2\n",
    "print(dna3)\n"
   ]
  }
 ],
 "metadata": {
  "kernelspec": {
   "display_name": "Python 3",
   "language": "python",
   "name": "python3"
  },
  "language_info": {
   "codemirror_mode": {
    "name": "ipython",
    "version": 3
   },
   "file_extension": ".py",
   "mimetype": "text/x-python",
   "name": "python",
   "nbconvert_exporter": "python",
   "pygments_lexer": "ipython3",
   "version": "3.10.13"
  }
 },
 "nbformat": 4,
 "nbformat_minor": 2
}
